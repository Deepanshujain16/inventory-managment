{
  "nbformat": 4,
  "nbformat_minor": 0,
  "metadata": {
    "colab": {
      "name": "inventory management.ipynb",
      "provenance": [],
      "collapsed_sections": [],
      "toc_visible": true
    },
    "kernelspec": {
      "name": "python3",
      "display_name": "Python 3"
    },
    "language_info": {
      "name": "python"
    }
  },
  "cells": [
    {
      "cell_type": "code",
      "metadata": {
        "id": "dfB0-bH7fNlt"
      },
      "source": [
        "inve={1001:{'Item':'pepsi','pr':50,'qn':100},\n",
        "    1002:{'Item':'dairy milk','pr':20,'qn':150},\n",
        "    1003:{'Item':'oreo biscuit','pr':10,'qn':100},\n",
        "    1004:{'Item':'rusk','pr':55,'qn':50},\n",
        "    1005:{'Item':'waffers','pr':20,'qn':100},\n",
        "    1006:{'Item':'peanut butter','pr':80,'qn':40},\n",
        "    1007:{'Item':'bhujia','pr':60,'qn':80},\n",
        "    1008:{'Item':'oil','pr':200,'qn':50},\n",
        "    1009:{'Item':'corn flakes','pr':200,'qn':20},\n",
        "    1010:{'Item':'oats','pr':50,'qn':25},\n",
        "    1011:{'Item':'bulgar','pr':25,'qn':30},\n",
        "    1012:{'Item':'salt','pr':20,'qn':100},\n",
        "    1013:{'Item':'sugar','pr':50,'qn':100},\n",
        "    1014:{'Item':'ketchup','pr':50,'qn':50},\n",
        "    1015:{'Item':'jaggery','pr':40,'qn':50},\n",
        "    1016:{'Item':'pen','pr':10,'qn':100},\n",
        "    1017:{'Item':'notebook','pr':50,'qn':100},\n",
        "    1018:{'Item':'eraser','pr':5,'qn':200},\n",
        "    1019:{'Item':'sharpner','pr':5,'qn':100},\n",
        "    1020:{'Item':'ruler','pr':20,'qn':100},\n",
        "    1021:{'Item':'protacter','pr':10,'qn':100},\n",
        "    1022:{'Item':'bag','pr':500,'qn':50},\n",
        "    1023:{'Item':'bottle','pr':100,'qn':100},\n",
        "    1024:{'Item':'box','pr':100,'qn':100},\n",
        "    1025:{'Item':'pencil','pr':10,'qn':100},\n",
        "    1026:{'Item':'bowl','pr':150,'qn':100},\n",
        "    1027:{'Item':'calculater','pr':400,'qn':50},\n",
        "    1028:{'Item':'watch','pr':300,'qn':100},\n",
        "    1029:{'Item':'kit','pr':50,'qn':100},\n",
        "    1030:{'Item':'drawing sheet','pr':10,'qn':100}}\n",
        "sales={}\n"
      ],
      "execution_count": null,
      "outputs": []
    },
    {
      "cell_type": "code",
      "metadata": {
        "colab": {
          "base_uri": "https://localhost:8080/"
        },
        "id": "V1yx-ze-16P7",
        "outputId": "2e1994ff-c671-4eff-af38-e8197b34ead9"
      },
      "source": [
        "item_id=int(input('the product id is:'))\n",
        "item_qn=int(input('enter the quantity of that product:'))\n",
        "Tid=len(sales)+1  #transaction id\n",
        "bill=item_qn*inve[item_id]['pr']\n",
        "for i in inve:\n",
        "  if item_id in inve.keys():\n",
        "    sales[Tid]={'prod_id':item_id,'prod':inve[item_id]['Item'],'price':inve[item_id]['pr'],'qn':item_qn,'bill':bill}"
      ],
      "execution_count": null,
      "outputs": [
        {
          "name": "stdout",
          "output_type": "stream",
          "text": [
            "the product id is:1010\n",
            "enter the quantity of that product:20\n"
          ]
        }
      ]
    },
    {
      "cell_type": "code",
      "metadata": {
        "colab": {
          "base_uri": "https://localhost:8080/"
        },
        "id": "oNHQZkP9JeLL",
        "outputId": "a8c6449a-d07e-4346-d7ed-98e79561db88"
      },
      "source": [
        "print(inve)\n",
        "print(sales)"
      ],
      "execution_count": null,
      "outputs": [
        {
          "output_type": "stream",
          "name": "stdout",
          "text": [
            "{1001: {'Item': 'pepsi', 'pr': 50, 'qn': 100}, 1002: {'Item': 'dairy milk', 'pr': 20, 'qn': 150}, 1003: {'Item': 'oreo biscuit', 'pr': 10, 'qn': 100}, 1004: {'Item': 'rusk', 'pr': 55, 'qn': 50}, 1005: {'Item': 'waffers', 'pr': 20, 'qn': 100}, 1006: {'Item': 'peanut butter', 'pr': 80, 'qn': 40}, 1007: {'Item': 'bhujia', 'pr': 60, 'qn': 80}, 1008: {'Item': 'oil', 'pr': 200, 'qn': 50}, 1009: {'Item': 'corn flakes', 'pr': 200, 'qn': 20}, 1010: {'Item': 'oats', 'pr': 50, 'qn': 25}, 1011: {'Item': 'bulgar', 'pr': 25, 'qn': 30}, 1012: {'Item': 'salt', 'pr': 20, 'qn': 100}, 1013: {'Item': 'sugar', 'pr': 50, 'qn': 100}, 1014: {'Item': 'ketchup', 'pr': 50, 'qn': 50}, 1015: {'Item': 'jaggery', 'pr': 40, 'qn': 50}, 1016: {'Item': 'pen', 'pr': 10, 'qn': 100}, 1017: {'Item': 'notebook', 'pr': 50, 'qn': 100}, 1018: {'Item': 'eraser', 'pr': 5, 'qn': 200}, 1019: {'Item': 'sharpner', 'pr': 5, 'qn': 100}, 1020: {'Item': 'ruler', 'pr': 20, 'qn': 100}, 1021: {'Item': 'protacter', 'pr': 10, 'qn': 100}, 1022: {'Item': 'bag', 'pr': 500, 'qn': 50}, 1023: {'Item': 'bottle', 'pr': 100, 'qn': 100}, 1024: {'Item': 'box', 'pr': 100, 'qn': 100}, 1025: {'Item': 'pencil', 'pr': 10, 'qn': 100}, 1026: {'Item': 'bowl', 'pr': 150, 'qn': 100}, 1027: {'Item': 'calculater', 'pr': 400, 'qn': 50}, 1028: {'Item': 'watch', 'pr': 300, 'qn': 100}, 1029: {'Item': 'kit', 'pr': 50, 'qn': 100}, 1030: {'Item': 'drawing sheet', 'pr': 10, 'qn': 100}}\n",
            "{1: {'prod_id': 1001, 'prod': 'pepsi', 'price': 50, 'qn': 12, 'bill': 600}, 2: {'prod_id': 1003, 'prod': 'oreo biscuit', 'price': 10, 'qn': 6, 'bill': 60}, 3: {'prod_id': 1005, 'prod': 'waffers', 'price': 20, 'qn': 18, 'bill': 360}, 4: {'prod_id': 1007, 'prod': 'bhujia', 'price': 60, 'qn': 2, 'bill': 120}, 5: {'prod_id': 1009, 'prod': 'corn flakes', 'price': 200, 'qn': 4, 'bill': 800}, 6: {'prod_id': 1011, 'prod': 'bulgar', 'price': 25, 'qn': 8, 'bill': 200}, 7: {'prod_id': 1013, 'prod': 'sugar', 'price': 50, 'qn': 3, 'bill': 150}, 8: {'prod_id': 1015, 'prod': 'jaggery', 'price': 40, 'qn': 9, 'bill': 360}, 9: {'prod_id': 1017, 'prod': 'notebook', 'price': 50, 'qn': 1, 'bill': 50}, 10: {'prod_id': 1021, 'prod': 'protacter', 'price': 10, 'qn': 5, 'bill': 50}, 11: {'prod_id': 1019, 'prod': 'sharpner', 'price': 5, 'qn': 7, 'bill': 35}, 12: {'prod_id': 1023, 'prod': 'bottle', 'price': 100, 'qn': 10, 'bill': 1000}, 13: {'prod_id': 1025, 'prod': 'pencil', 'price': 10, 'qn': 11, 'bill': 110}, 14: {'prod_id': 1027, 'prod': 'calculater', 'price': 400, 'qn': 12, 'bill': 4800}, 15: {'prod_id': 1029, 'prod': 'kit', 'price': 50, 'qn': 13, 'bill': 650}, 16: {'prod_id': 1030, 'prod': 'drawing sheet', 'price': 10, 'qn': 14, 'bill': 140}, 17: {'prod_id': 1002, 'prod': 'dairy milk', 'price': 20, 'qn': 3, 'bill': 60}, 18: {'prod_id': 1004, 'prod': 'rusk', 'price': 55, 'qn': 6, 'bill': 330}, 19: {'prod_id': 1008, 'prod': 'oil', 'price': 200, 'qn': 10, 'bill': 2000}, 20: {'prod_id': 1010, 'prod': 'oats', 'price': 50, 'qn': 20, 'bill': 1000}}\n"
          ]
        }
      ]
    },
    {
      "cell_type": "code",
      "metadata": {
        "colab": {
          "base_uri": "https://localhost:8080/",
          "height": 188
        },
        "id": "S7QF455PKhl6",
        "outputId": "e02a6818-379c-4e5d-db91-2d803936bbdc"
      },
      "source": [
        "import json\n",
        "json.dumps(inve)"
      ],
      "execution_count": null,
      "outputs": [
        {
          "output_type": "execute_result",
          "data": {
            "application/vnd.google.colaboratory.intrinsic+json": {
              "type": "string"
            },
            "text/plain": [
              "'{\"1001\": {\"Item\": \"pepsi\", \"pr\": 50, \"qn\": 100}, \"1002\": {\"Item\": \"dairy milk\", \"pr\": 20, \"qn\": 150}, \"1003\": {\"Item\": \"oreo biscuit\", \"pr\": 10, \"qn\": 100}, \"1004\": {\"Item\": \"rusk\", \"pr\": 55, \"qn\": 50}, \"1005\": {\"Item\": \"waffers\", \"pr\": 20, \"qn\": 100}, \"1006\": {\"Item\": \"peanut butter\", \"pr\": 80, \"qn\": 40}, \"1007\": {\"Item\": \"bhujia\", \"pr\": 60, \"qn\": 80}, \"1008\": {\"Item\": \"oil\", \"pr\": 200, \"qn\": 50}, \"1009\": {\"Item\": \"corn flakes\", \"pr\": 200, \"qn\": 20}, \"1010\": {\"Item\": \"oats\", \"pr\": 50, \"qn\": 25}, \"1011\": {\"Item\": \"bulgar\", \"pr\": 25, \"qn\": 30}, \"1012\": {\"Item\": \"salt\", \"pr\": 20, \"qn\": 100}, \"1013\": {\"Item\": \"sugar\", \"pr\": 50, \"qn\": 100}, \"1014\": {\"Item\": \"ketchup\", \"pr\": 50, \"qn\": 50}, \"1015\": {\"Item\": \"jaggery\", \"pr\": 40, \"qn\": 50}, \"1016\": {\"Item\": \"pen\", \"pr\": 10, \"qn\": 100}, \"1017\": {\"Item\": \"notebook\", \"pr\": 50, \"qn\": 100}, \"1018\": {\"Item\": \"eraser\", \"pr\": 5, \"qn\": 200}, \"1019\": {\"Item\": \"sharpner\", \"pr\": 5, \"qn\": 100}, \"1020\": {\"Item\": \"ruler\", \"pr\": 20, \"qn\": 100}, \"1021\": {\"Item\": \"protacter\", \"pr\": 10, \"qn\": 100}, \"1022\": {\"Item\": \"bag\", \"pr\": 500, \"qn\": 50}, \"1023\": {\"Item\": \"bottle\", \"pr\": 100, \"qn\": 100}, \"1024\": {\"Item\": \"box\", \"pr\": 100, \"qn\": 100}, \"1025\": {\"Item\": \"pencil\", \"pr\": 10, \"qn\": 100}, \"1026\": {\"Item\": \"bowl\", \"pr\": 150, \"qn\": 100}, \"1027\": {\"Item\": \"calculater\", \"pr\": 400, \"qn\": 50}, \"1028\": {\"Item\": \"watch\", \"pr\": 300, \"qn\": 100}, \"1029\": {\"Item\": \"kit\", \"pr\": 50, \"qn\": 100}, \"1030\": {\"Item\": \"drawing sheet\", \"pr\": 10, \"qn\": 100}}'"
            ]
          },
          "metadata": {},
          "execution_count": 127
        }
      ]
    },
    {
      "cell_type": "code",
      "metadata": {
        "colab": {
          "base_uri": "https://localhost:8080/",
          "height": 205
        },
        "id": "ZxnOBSF7K8FO",
        "outputId": "847c5977-fc4a-4c91-8307-dcf1d3e873cd"
      },
      "source": [
        "(json.dumps(sales))"
      ],
      "execution_count": null,
      "outputs": [
        {
          "output_type": "execute_result",
          "data": {
            "application/vnd.google.colaboratory.intrinsic+json": {
              "type": "string"
            },
            "text/plain": [
              "'{\"1\": {\"prod_id\": 1001, \"prod\": \"pepsi\", \"price\": 50, \"qn\": 12, \"bill\": 600}, \"2\": {\"prod_id\": 1003, \"prod\": \"oreo biscuit\", \"price\": 10, \"qn\": 6, \"bill\": 60}, \"3\": {\"prod_id\": 1005, \"prod\": \"waffers\", \"price\": 20, \"qn\": 18, \"bill\": 360}, \"4\": {\"prod_id\": 1007, \"prod\": \"bhujia\", \"price\": 60, \"qn\": 2, \"bill\": 120}, \"5\": {\"prod_id\": 1009, \"prod\": \"corn flakes\", \"price\": 200, \"qn\": 4, \"bill\": 800}, \"6\": {\"prod_id\": 1011, \"prod\": \"bulgar\", \"price\": 25, \"qn\": 8, \"bill\": 200}, \"7\": {\"prod_id\": 1013, \"prod\": \"sugar\", \"price\": 50, \"qn\": 3, \"bill\": 150}, \"8\": {\"prod_id\": 1015, \"prod\": \"jaggery\", \"price\": 40, \"qn\": 9, \"bill\": 360}, \"9\": {\"prod_id\": 1017, \"prod\": \"notebook\", \"price\": 50, \"qn\": 1, \"bill\": 50}, \"10\": {\"prod_id\": 1021, \"prod\": \"protacter\", \"price\": 10, \"qn\": 5, \"bill\": 50}, \"11\": {\"prod_id\": 1019, \"prod\": \"sharpner\", \"price\": 5, \"qn\": 7, \"bill\": 35}, \"12\": {\"prod_id\": 1023, \"prod\": \"bottle\", \"price\": 100, \"qn\": 10, \"bill\": 1000}, \"13\": {\"prod_id\": 1025, \"prod\": \"pencil\", \"price\": 10, \"qn\": 11, \"bill\": 110}, \"14\": {\"prod_id\": 1027, \"prod\": \"calculater\", \"price\": 400, \"qn\": 12, \"bill\": 4800}, \"15\": {\"prod_id\": 1029, \"prod\": \"kit\", \"price\": 50, \"qn\": 13, \"bill\": 650}, \"16\": {\"prod_id\": 1030, \"prod\": \"drawing sheet\", \"price\": 10, \"qn\": 14, \"bill\": 140}, \"17\": {\"prod_id\": 1002, \"prod\": \"dairy milk\", \"price\": 20, \"qn\": 3, \"bill\": 60}, \"18\": {\"prod_id\": 1004, \"prod\": \"rusk\", \"price\": 55, \"qn\": 6, \"bill\": 330}, \"19\": {\"prod_id\": 1008, \"prod\": \"oil\", \"price\": 200, \"qn\": 10, \"bill\": 2000}, \"20\": {\"prod_id\": 1010, \"prod\": \"oats\", \"price\": 50, \"qn\": 20, \"bill\": 1000}}'"
            ]
          },
          "metadata": {},
          "execution_count": 128
        }
      ]
    },
    {
      "cell_type": "code",
      "metadata": {
        "id": "9kdvaPx8PZvC"
      },
      "source": [
        "inventory=json.dumps(inve)\n",
        "fd=open(\"inve.json\",'w')\n",
        "fd.write(inventory)\n",
        "fd.close()\n",
        "sales_file=json.dumps(sales)\n",
        "fd1=open('sales.json','w')\n",
        "fd1.write(sales_file)\n",
        "fd1.close()\n"
      ],
      "execution_count": null,
      "outputs": []
    }
  ]
}